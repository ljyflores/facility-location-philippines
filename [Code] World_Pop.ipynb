{
 "cells": [
  {
   "cell_type": "code",
   "execution_count": 1,
   "metadata": {},
   "outputs": [],
   "source": [
    "import numpy as np\n",
    "import pandas as pd\n",
    "import cv2 \n",
    "import tifffile as tiff\n",
    "import matplotlib.pyplot as plt\n",
    "import rasterio as rio\n",
    "import rioxarray as rxr"
   ]
  },
  {
   "cell_type": "code",
   "execution_count": 2,
   "metadata": {},
   "outputs": [],
   "source": [
    "# Get x and y coordinates\n",
    "raw_data = rxr.open_rasterio(\"data/population_raw/PHL_ppp_v2b_2020_UNadj.tif\")\n",
    "lat = np.array(raw_data.y)\n",
    "lon = np.array(raw_data.x)\n",
    "\n",
    "# Get population values\n",
    "with rio.open(\"data/population_raw/PHL_ppp_v2b_2020_UNadj.tif\") as source:\n",
    "    a = source.read(1)\n",
    "\n",
    "# Collect longitudes, latitudes, and population into df\n",
    "a = a.flatten()\n",
    "lon_tiled = np.tile(lon, len(lat))\n",
    "lat_tiled = np.tile(np.array([lat]).T, len(lon)).flatten()\n",
    "df = pd.DataFrame({'longitude':lon_tiled,\n",
    "                   'latitude':lat_tiled,\n",
    "                   'population_2020':a})\n",
    "\n",
    "# Keep spaces only if they have people\n",
    "df = df.loc[df.population_2020>0].reset_index(drop=True)\n",
    "\n",
    "# Output\n",
    "df.to_csv(\"data/ph_worldpop_population.csv\", index=False)"
   ]
  },
  {
   "cell_type": "code",
   "execution_count": null,
   "metadata": {},
   "outputs": [],
   "source": []
  }
 ],
 "metadata": {
  "environment": {
   "name": "common-cpu.m59",
   "type": "gcloud",
   "uri": "gcr.io/deeplearning-platform-release/base-cpu:m59"
  },
  "kernelspec": {
   "display_name": "Python 3",
   "language": "python",
   "name": "python3"
  },
  "language_info": {
   "codemirror_mode": {
    "name": "ipython",
    "version": 3
   },
   "file_extension": ".py",
   "mimetype": "text/x-python",
   "name": "python",
   "nbconvert_exporter": "python",
   "pygments_lexer": "ipython3",
   "version": "3.7.8"
  }
 },
 "nbformat": 4,
 "nbformat_minor": 4
}
