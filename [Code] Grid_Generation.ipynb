{
 "cells": [
  {
   "cell_type": "code",
   "execution_count": 1,
   "metadata": {},
   "outputs": [],
   "source": [
    "import geopandas as gpd\n",
    "import pandas as pd\n",
    "import numpy as np\n",
    "import shapely"
   ]
  },
  {
   "cell_type": "code",
   "execution_count": 2,
   "metadata": {},
   "outputs": [],
   "source": [
    "# Spacing in kilometers\n",
    "def create_grid(x_min, x_max, y_min, y_max, spacing):\n",
    "    polygons, centers = [], []\n",
    "    width = spacing/(111)\n",
    "    \n",
    "    for x in np.linspace(x_min, x_max, round((x_max-x_min)/width)):\n",
    "        for y in np.linspace(y_min, y_max, round((y_max-y_min)/width)):\n",
    "            poly = shapely.geometry.Polygon([(x,y),(x+width,y),(x+width,y+width),(x,y+width)])\n",
    "            center = poly.centroid\n",
    "            polygons.append(poly)\n",
    "            centers.append(center)\n",
    "            \n",
    "    res = pd.DataFrame({'ID':list(range(len(polygons))),\n",
    "                        'Polygon':polygons,\n",
    "                        'Center':centers})\n",
    "    res = gpd.GeoDataFrame(res, geometry=res['Polygon'], crs='EPSG:4326')\n",
    "    return res\n"
   ]
  },
  {
   "cell_type": "markdown",
   "metadata": {},
   "source": [
    "### Generate Grid"
   ]
  },
  {
   "cell_type": "code",
   "execution_count": 9,
   "metadata": {},
   "outputs": [],
   "source": [
    "# Read in data, using crs EPSG:4326\n",
    "df = create_grid(121.1,121.5,14.5,14.8,0.500)\n",
    "df = gpd.GeoDataFrame(df, geometry=df['Center'], crs='EPSG:4326')\n",
    "\n",
    "# Keep only points within Antipolo\n",
    "mun = gpd.read_file(\"muni/MuniCities.shp\", crs='EPSG:4326')\n",
    "ant_mun = mun.loc[mun.NAME_2.str.contains('Antipolo')]\n",
    "ant_mun = gpd.GeoDataFrame(ant_mun, geometry=ant_mun['geometry'], crs='EPSG:4326')\n",
    "\n",
    "df = gpd.sjoin(df, ant_mun, how='left', op='within')\n",
    "df = df.loc[df.ISO.notnull()].reset_index(drop=True)[['ID','Polygon']]\n",
    "\n",
    "# Reset ID\n",
    "df = df.drop('ID', axis=1)\n",
    "df['Grid_ID'] = [str(x) for x in list(range(1,df.shape[0]+1))]"
   ]
  },
  {
   "cell_type": "code",
   "execution_count": 10,
   "metadata": {},
   "outputs": [],
   "source": [
    "# Output\n",
    "pd.DataFrame(df).to_csv('antipolo_grid.csv', index=False)"
   ]
  },
  {
   "cell_type": "code",
   "execution_count": null,
   "metadata": {},
   "outputs": [],
   "source": []
  }
 ],
 "metadata": {
  "environment": {
   "name": "common-cpu.m59",
   "type": "gcloud",
   "uri": "gcr.io/deeplearning-platform-release/base-cpu:m59"
  },
  "kernelspec": {
   "display_name": "Python 3",
   "language": "python",
   "name": "python3"
  },
  "language_info": {
   "codemirror_mode": {
    "name": "ipython",
    "version": 3
   },
   "file_extension": ".py",
   "mimetype": "text/x-python",
   "name": "python",
   "nbconvert_exporter": "python",
   "pygments_lexer": "ipython3",
   "version": "3.7.8"
  }
 },
 "nbformat": 4,
 "nbformat_minor": 4
}
